{
 "cells": [
  {
   "cell_type": "markdown",
   "metadata": {},
   "source": [
    "mmcif to pdb converter:\n",
    "https://project-gemmi.github.io/wasm/convert/cif2pdb.html\n",
    "\n",
    "prequesites:\n",
    "- https://pypi.org/project/gromologist/\n",
    "- https://www.gromacs.org/"
   ]
  },
  {
   "cell_type": "code",
   "execution_count": 12,
   "metadata": {
    "nbpresent": {
     "id": "57ae234e-1d9a-4341-ae4b-7e2ae3da2144"
    },
    "trusted": true
   },
   "outputs": [],
   "source": [
    "from gromologist import Top, Pdb"
   ]
  },
  {
   "cell_type": "code",
   "execution_count": 23,
   "metadata": {},
   "outputs": [
    {
     "ename": "RuntimeError",
     "evalue": "Cannot interpret atom number A000G as decimal or hexadecimal",
     "output_type": "error",
     "traceback": [
      "\u001b[0;31m---------------------------------------------------------------------------\u001b[0m",
      "\u001b[0;31mValueError\u001b[0m                                Traceback (most recent call last)",
      "File \u001b[0;32m~/Library/Python/3.9/lib/python/site-packages/gromologist/Pdb.py:1710\u001b[0m, in \u001b[0;36mAtom.__init__\u001b[0;34m(self, line, qt)\u001b[0m\n\u001b[1;32m   1709\u001b[0m \u001b[38;5;28;01mtry\u001b[39;00m:\n\u001b[0;32m-> 1710\u001b[0m     \u001b[38;5;28mself\u001b[39m\u001b[38;5;241m.\u001b[39mserial \u001b[38;5;241m=\u001b[39m \u001b[38;5;28;43mint\u001b[39;49m\u001b[43m(\u001b[49m\u001b[43mline\u001b[49m\u001b[43m[\u001b[49m\u001b[38;5;241;43m6\u001b[39;49m\u001b[43m:\u001b[49m\u001b[38;5;241;43m11\u001b[39;49m\u001b[43m]\u001b[49m\u001b[38;5;241;43m.\u001b[39;49m\u001b[43mstrip\u001b[49m\u001b[43m(\u001b[49m\u001b[43m)\u001b[49m\u001b[43m)\u001b[49m\n\u001b[1;32m   1711\u001b[0m \u001b[38;5;28;01mexcept\u001b[39;00m \u001b[38;5;167;01mValueError\u001b[39;00m:\n",
      "\u001b[0;31mValueError\u001b[0m: invalid literal for int() with base 10: 'A000G'",
      "\nDuring handling of the above exception, another exception occurred:\n",
      "\u001b[0;31mValueError\u001b[0m                                Traceback (most recent call last)",
      "File \u001b[0;32m~/Library/Python/3.9/lib/python/site-packages/gromologist/Pdb.py:1713\u001b[0m, in \u001b[0;36mAtom.__init__\u001b[0;34m(self, line, qt)\u001b[0m\n\u001b[1;32m   1712\u001b[0m \u001b[38;5;28;01mtry\u001b[39;00m:\n\u001b[0;32m-> 1713\u001b[0m     \u001b[38;5;28mself\u001b[39m\u001b[38;5;241m.\u001b[39mserial \u001b[38;5;241m=\u001b[39m \u001b[38;5;28;43mint\u001b[39;49m\u001b[43m(\u001b[49m\u001b[43mline\u001b[49m\u001b[43m[\u001b[49m\u001b[38;5;241;43m6\u001b[39;49m\u001b[43m:\u001b[49m\u001b[38;5;241;43m11\u001b[39;49m\u001b[43m]\u001b[49m\u001b[38;5;241;43m.\u001b[39;49m\u001b[43mstrip\u001b[49m\u001b[43m(\u001b[49m\u001b[43m)\u001b[49m\u001b[43m,\u001b[49m\u001b[43m \u001b[49m\u001b[38;5;241;43m16\u001b[39;49m\u001b[43m)\u001b[49m\n\u001b[1;32m   1714\u001b[0m \u001b[38;5;28;01mexcept\u001b[39;00m \u001b[38;5;167;01mValueError\u001b[39;00m:\n",
      "\u001b[0;31mValueError\u001b[0m: invalid literal for int() with base 16: 'A000G'",
      "\nDuring handling of the above exception, another exception occurred:\n",
      "\u001b[0;31mRuntimeError\u001b[0m                              Traceback (most recent call last)",
      "Cell \u001b[0;32mIn[23], line 2\u001b[0m\n\u001b[1;32m      1\u001b[0m \u001b[38;5;66;03m#t = Top('topol.top', pdb='7m7f_protein.pdb')\u001b[39;00m\n\u001b[0;32m----> 2\u001b[0m p \u001b[38;5;241m=\u001b[39m \u001b[43mPdb\u001b[49m\u001b[43m(\u001b[49m\u001b[38;5;124;43m'\u001b[39;49m\u001b[38;5;124;43m7uph.pdb\u001b[39;49m\u001b[38;5;124;43m'\u001b[39;49m\u001b[43m)\u001b[49m\n",
      "File \u001b[0;32m~/Library/Python/3.9/lib/python/site-packages/gromologist/Pdb.py:40\u001b[0m, in \u001b[0;36mPdb.__init__\u001b[0;34m(self, filename, top, altloc, qt, keep_altlocs, **kwargs)\u001b[0m\n\u001b[1;32m     37\u001b[0m         \u001b[38;5;28mself\u001b[39m\u001b[38;5;241m.\u001b[39matoms, \u001b[38;5;28mself\u001b[39m\u001b[38;5;241m.\u001b[39mbox, \u001b[38;5;28mself\u001b[39m\u001b[38;5;241m.\u001b[39mremarks \u001b[38;5;241m=\u001b[39m \u001b[38;5;28mself\u001b[39m\u001b[38;5;241m.\u001b[39m_parse_contents_cif([line\u001b[38;5;241m.\u001b[39mrstrip()\n\u001b[1;32m     38\u001b[0m                                                                        \u001b[38;5;28;01mfor\u001b[39;00m line \u001b[38;5;129;01min\u001b[39;00m \u001b[38;5;28mopen\u001b[39m(\u001b[38;5;28mself\u001b[39m\u001b[38;5;241m.\u001b[39mfname)])\n\u001b[1;32m     39\u001b[0m     \u001b[38;5;28;01melse\u001b[39;00m:\n\u001b[0;32m---> 40\u001b[0m         \u001b[38;5;28mself\u001b[39m\u001b[38;5;241m.\u001b[39matoms, \u001b[38;5;28mself\u001b[39m\u001b[38;5;241m.\u001b[39mbox, \u001b[38;5;28mself\u001b[39m\u001b[38;5;241m.\u001b[39mremarks \u001b[38;5;241m=\u001b[39m \u001b[38;5;28;43mself\u001b[39;49m\u001b[38;5;241;43m.\u001b[39;49m\u001b[43m_parse_contents\u001b[49m\u001b[43m(\u001b[49m\u001b[43m[\u001b[49m\u001b[43mline\u001b[49m\u001b[38;5;241;43m.\u001b[39;49m\u001b[43mstrip\u001b[49m\u001b[43m(\u001b[49m\u001b[43m)\u001b[49m\u001b[43m \u001b[49m\u001b[38;5;28;43;01mfor\u001b[39;49;00m\u001b[43m \u001b[49m\u001b[43mline\u001b[49m\u001b[43m \u001b[49m\u001b[38;5;129;43;01min\u001b[39;49;00m\u001b[43m \u001b[49m\u001b[38;5;28;43mopen\u001b[39;49m\u001b[43m(\u001b[49m\u001b[38;5;28;43mself\u001b[39;49m\u001b[38;5;241;43m.\u001b[39;49m\u001b[43mfname\u001b[49m\u001b[43m)\u001b[49m\u001b[43m]\u001b[49m\u001b[43m,\u001b[49m\n\u001b[1;32m     41\u001b[0m \u001b[43m                                                                  \u001b[49m\u001b[43mqt\u001b[49m\u001b[43m)\u001b[49m\n\u001b[1;32m     42\u001b[0m \u001b[38;5;28;01melse\u001b[39;00m:\n\u001b[1;32m     43\u001b[0m     \u001b[38;5;28mself\u001b[39m\u001b[38;5;241m.\u001b[39matoms, \u001b[38;5;28mself\u001b[39m\u001b[38;5;241m.\u001b[39mbox, \u001b[38;5;28mself\u001b[39m\u001b[38;5;241m.\u001b[39mremarks \u001b[38;5;241m=\u001b[39m [], \u001b[38;5;241m3\u001b[39m \u001b[38;5;241m*\u001b[39m [\u001b[38;5;241m100\u001b[39m] \u001b[38;5;241m+\u001b[39m \u001b[38;5;241m3\u001b[39m \u001b[38;5;241m*\u001b[39m [\u001b[38;5;241m90\u001b[39m], []\n",
      "File \u001b[0;32m~/Library/Python/3.9/lib/python/site-packages/gromologist/Pdb.py:1005\u001b[0m, in \u001b[0;36mPdb._parse_contents\u001b[0;34m(contents, qt)\u001b[0m\n\u001b[1;32m   1003\u001b[0m \u001b[38;5;28;01mfor\u001b[39;00m line \u001b[38;5;129;01min\u001b[39;00m contents:\n\u001b[1;32m   1004\u001b[0m     \u001b[38;5;28;01mif\u001b[39;00m line\u001b[38;5;241m.\u001b[39mstartswith(\u001b[38;5;124m'\u001b[39m\u001b[38;5;124mATOM\u001b[39m\u001b[38;5;124m'\u001b[39m) \u001b[38;5;129;01mor\u001b[39;00m line\u001b[38;5;241m.\u001b[39mstartswith(\u001b[38;5;124m'\u001b[39m\u001b[38;5;124mHETATM\u001b[39m\u001b[38;5;124m'\u001b[39m):\n\u001b[0;32m-> 1005\u001b[0m         atoms\u001b[38;5;241m.\u001b[39mappend(\u001b[43mAtom\u001b[49m\u001b[43m(\u001b[49m\u001b[43mline\u001b[49m\u001b[43m,\u001b[49m\u001b[43m \u001b[49m\u001b[43mqt\u001b[49m\u001b[43m)\u001b[49m)\n\u001b[1;32m   1006\u001b[0m     \u001b[38;5;28;01melif\u001b[39;00m line\u001b[38;5;241m.\u001b[39mstartswith(\u001b[38;5;124m\"\u001b[39m\u001b[38;5;124mCRYST1\u001b[39m\u001b[38;5;124m\"\u001b[39m):\n\u001b[1;32m   1007\u001b[0m         box \u001b[38;5;241m=\u001b[39m [\u001b[38;5;28mfloat\u001b[39m(line[\u001b[38;5;241m6\u001b[39m \u001b[38;5;241m+\u001b[39m \u001b[38;5;241m9\u001b[39m \u001b[38;5;241m*\u001b[39m a:\u001b[38;5;241m6\u001b[39m \u001b[38;5;241m+\u001b[39m \u001b[38;5;241m9\u001b[39m \u001b[38;5;241m*\u001b[39m (a \u001b[38;5;241m+\u001b[39m \u001b[38;5;241m1\u001b[39m)]) \u001b[38;5;28;01mfor\u001b[39;00m a \u001b[38;5;129;01min\u001b[39;00m \u001b[38;5;28mrange\u001b[39m(\u001b[38;5;241m3\u001b[39m)] \u001b[38;5;241m+\u001b[39m \\\n\u001b[1;32m   1008\u001b[0m               [\u001b[38;5;28mfloat\u001b[39m(line[\u001b[38;5;241m33\u001b[39m \u001b[38;5;241m+\u001b[39m \u001b[38;5;241m7\u001b[39m \u001b[38;5;241m*\u001b[39m a:\u001b[38;5;241m33\u001b[39m \u001b[38;5;241m+\u001b[39m \u001b[38;5;241m7\u001b[39m \u001b[38;5;241m*\u001b[39m (a \u001b[38;5;241m+\u001b[39m \u001b[38;5;241m1\u001b[39m)]) \u001b[38;5;28;01mfor\u001b[39;00m a \u001b[38;5;129;01min\u001b[39;00m \u001b[38;5;28mrange\u001b[39m(\u001b[38;5;241m3\u001b[39m)]\n",
      "File \u001b[0;32m~/Library/Python/3.9/lib/python/site-packages/gromologist/Pdb.py:1715\u001b[0m, in \u001b[0;36mAtom.__init__\u001b[0;34m(self, line, qt)\u001b[0m\n\u001b[1;32m   1713\u001b[0m         \u001b[38;5;28mself\u001b[39m\u001b[38;5;241m.\u001b[39mserial \u001b[38;5;241m=\u001b[39m \u001b[38;5;28mint\u001b[39m(line[\u001b[38;5;241m6\u001b[39m:\u001b[38;5;241m11\u001b[39m]\u001b[38;5;241m.\u001b[39mstrip(), \u001b[38;5;241m16\u001b[39m)\n\u001b[1;32m   1714\u001b[0m     \u001b[38;5;28;01mexcept\u001b[39;00m \u001b[38;5;167;01mValueError\u001b[39;00m:\n\u001b[0;32m-> 1715\u001b[0m         \u001b[38;5;28;01mraise\u001b[39;00m \u001b[38;5;167;01mRuntimeError\u001b[39;00m(\u001b[38;5;124mf\u001b[39m\u001b[38;5;124m\"\u001b[39m\u001b[38;5;124mCannot interpret atom number \u001b[39m\u001b[38;5;132;01m{\u001b[39;00mline[\u001b[38;5;241m6\u001b[39m:\u001b[38;5;241m11\u001b[39m]\u001b[38;5;241m.\u001b[39mstrip()\u001b[38;5;132;01m}\u001b[39;00m\u001b[38;5;124m as decimal or hexadecimal\u001b[39m\u001b[38;5;124m\"\u001b[39m)\n\u001b[1;32m   1716\u001b[0m \u001b[38;5;28mself\u001b[39m\u001b[38;5;241m.\u001b[39matomname \u001b[38;5;241m=\u001b[39m line[\u001b[38;5;241m12\u001b[39m:\u001b[38;5;241m16\u001b[39m]\u001b[38;5;241m.\u001b[39mstrip()\n\u001b[1;32m   1717\u001b[0m \u001b[38;5;28mself\u001b[39m\u001b[38;5;241m.\u001b[39maltloc \u001b[38;5;241m=\u001b[39m line[\u001b[38;5;241m16\u001b[39m:\u001b[38;5;241m17\u001b[39m]\n",
      "\u001b[0;31mRuntimeError\u001b[0m: Cannot interpret atom number A000G as decimal or hexadecimal"
     ]
    }
   ],
   "source": [
    "#t = Top('topol.top', pdb='7m7f_protein.pdb')\n",
    "p = Pdb('7uph.pdb')"
   ]
  },
  {
   "cell_type": "code",
   "execution_count": 24,
   "metadata": {},
   "outputs": [],
   "source": [
    "#p.add_chains()\n",
    "p.add_conect()\n",
    "p.save_pdb('conect.pdb')\n"
   ]
  },
  {
   "cell_type": "code",
   "execution_count": 21,
   "metadata": {},
   "outputs": [],
   "source": [
    "t.pdb.add_conect()\n",
    "t.pdb.save_pdb('3iz8_conect.pdb')"
   ]
  }
 ],
 "metadata": {
  "anaconda-cloud": {},
  "kernelspec": {
   "display_name": "Python 3",
   "language": "python",
   "name": "python3"
  },
  "language_info": {
   "codemirror_mode": {
    "name": "ipython",
    "version": 3
   },
   "file_extension": ".py",
   "mimetype": "text/x-python",
   "name": "python",
   "nbconvert_exporter": "python",
   "pygments_lexer": "ipython3",
   "version": "3.9.6"
  },
  "nbpresent": {
   "slides": {
    "5ee989b6-b87f-45b2-b186-0f81e2eb6c0e": {
     "id": "5ee989b6-b87f-45b2-b186-0f81e2eb6c0e",
     "prev": null,
     "regions": {
      "1099d9ed-4336-403d-8924-acb02ce1d7c0": {
       "attrs": {
        "height": 0.2,
        "width": 0.4,
        "x": 0.1,
        "y": 0.7
       },
       "id": "1099d9ed-4336-403d-8924-acb02ce1d7c0"
      },
      "159e8040-85d4-4abc-8f26-2cf90a0407d7": {
       "attrs": {
        "height": 0.6,
        "width": 0.8,
        "x": 0.1,
        "y": 0.1
       },
       "id": "159e8040-85d4-4abc-8f26-2cf90a0407d7"
      },
      "d9ecb908-45c1-485f-bb18-bbc91a1fd84e": {
       "attrs": {
        "height": 0.2,
        "width": 0.4,
        "x": 0.5,
        "y": 0.7
       },
       "id": "d9ecb908-45c1-485f-bb18-bbc91a1fd84e"
      }
     }
    }
   },
   "themes": {}
  }
 },
 "nbformat": 4,
 "nbformat_minor": 4
}
